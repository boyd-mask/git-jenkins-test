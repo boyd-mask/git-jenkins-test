{
 "cells": [
  {
   "cell_type": "code",
   "execution_count": 40,
   "metadata": {
    "collapsed": true
   },
   "outputs": [],
   "source": [
    "from fabric.api import local\n",
    "import os, json"
   ]
  },
  {
   "cell_type": "code",
   "execution_count": 69,
   "metadata": {
    "collapsed": true
   },
   "outputs": [],
   "source": [
    "# read file\n",
    "def readfile(path):\n",
    "  with open(path, 'r') as f:\n",
    "    output = f.read().replace(\"'\",\"\\\"\")\n",
    "  return output"
   ]
  },
  {
   "cell_type": "code",
   "execution_count": 71,
   "metadata": {
    "collapsed": false
   },
   "outputs": [
    {
     "data": {
      "text/plain": [
       "'2'"
      ]
     },
     "execution_count": 71,
     "metadata": {},
     "output_type": "execute_result"
    }
   ],
   "source": [
    "text = readfile(os.getcwd() + '/log')\n",
    "issue_num = text.split(\" \")[3].replace(\"#\", \"\")\n",
    "issue_num"
   ]
  },
  {
   "cell_type": "code",
   "execution_count": 58,
   "metadata": {
    "collapsed": true
   },
   "outputs": [],
   "source": [
    "te\n",
    "text = text.replace('\"','\\\\\"')\n",
    "# text = \"hey\"\n",
    "f.close()\n",
    "# comment = json.dumps({'body': text})\n",
    "comment = {\"body\": \"{0}\".format(text)}"
   ]
  },
  {
   "cell_type": "code",
   "execution_count": 59,
   "metadata": {
    "collapsed": false
   },
   "outputs": [
    {
     "name": "stdout",
     "output_type": "stream",
     "text": [
      "[localhost] local: curl https://api.github.com/ -X POST -d '{\"body\": \"GitHub pull request #2 of commit 445745f245877dc41a7208c395e9f8b549ef9843, no merge conflicts.\\nSetting status of 445745f245877dc41a7208c395e9f8b549ef9843 to PENDING with url http://10.15.247.135:8081/job/Github%20Pull%20Req%20Builder/1/ and message: 'Build started sha1 is merged.'\\n\\u30d3\\u30eb\\u30c9\\u3057\\u307e\\u3059\\u3002 \\u30ef\\u30fc\\u30af\\u30b9\\u30da\\u30fc\\u30b9: /usr/local/opt/jenkins/jobs/Github Pull Req Builder/workspace\\nCloning the remote Git repository\\nCloning repository https://github.com/boyd-mask/git-jenkins-test/\\n > git init /usr/local/opt/jenkins/jobs/Github Pull Req Builder/workspace # timeout=10\\nFetching upstream changes from https://github.com/boyd-mask/git-jenkins-test/\\n > git --version # timeout=10\\n > git fetch --tags --progress https://github.com/boyd-mask/git-jenkins-test/ +refs/heads/*:refs/remotes/origin/*\\n > git config remote.origin.url https://github.com/boyd-mask/git-jenkins-test/ # timeout=10\\n > git config --add remote.origin.fetch +refs/heads/*:refs/remotes/origin/* # timeout=10\\n > git config remote.origin.url https://github.com/boyd-mask/git-jenkins-test/ # timeout=10\\nFetching upstream changes from https://github.com/boyd-mask/git-jenkins-test/\\n > git fetch --tags --progress https://github.com/boyd-mask/git-jenkins-test/ +refs/heads/*:refs/remotes/origin/* +refs/pull/*:refs/remotes/origin/pr/*\\n > git rev-parse refs/remotes/origin/pr/2/merge^{commit} # timeout=10\\n > git rev-parse refs/remotes/origin/origin/pr/2/merge^{commit} # timeout=10\\nChecking out Revision b3d31cef5a6e364bf4988a1f79d4687f526caa41 (refs/remotes/origin/pr/2/merge)\\n > git config core.sparsecheckout # timeout=10\\n > git checkout -f b3d31cef5a6e364bf4988a1f79d4687f526caa41\\nFirst time build. Skipping changelog.\\nSetting status of 445745f245877dc41a7208c395e9f8b549ef9843 to SUCCESS with url http://10.15.247.135:8081/job/Github%20Pull%20Req%20Builder/1/ and message: 'YEEEEEEEEESSSSSSSS!\\n '\\nFinished: SUCCESS\\n\\n\"}'\n"
     ]
    },
    {
     "name": "stderr",
     "output_type": "stream",
     "text": [
      "\n",
      "Fatal error: local() encountered an error (return code 3) while executing 'curl https://api.github.com/ -X POST -d '{\"body\": \"GitHub pull request #2 of commit 445745f245877dc41a7208c395e9f8b549ef9843, no merge conflicts.\\nSetting status of 445745f245877dc41a7208c395e9f8b549ef9843 to PENDING with url http://10.15.247.135:8081/job/Github%20Pull%20Req%20Builder/1/ and message: 'Build started sha1 is merged.'\\n\\u30d3\\u30eb\\u30c9\\u3057\\u307e\\u3059\\u3002 \\u30ef\\u30fc\\u30af\\u30b9\\u30da\\u30fc\\u30b9: /usr/local/opt/jenkins/jobs/Github Pull Req Builder/workspace\\nCloning the remote Git repository\\nCloning repository https://github.com/boyd-mask/git-jenkins-test/\\n > git init /usr/local/opt/jenkins/jobs/Github Pull Req Builder/workspace # timeout=10\\nFetching upstream changes from https://github.com/boyd-mask/git-jenkins-test/\\n > git --version # timeout=10\\n > git fetch --tags --progress https://github.com/boyd-mask/git-jenkins-test/ +refs/heads/*:refs/remotes/origin/*\\n > git config remote.origin.url https://github.com/boyd-mask/git-jenkins-test/ # timeout=10\\n > git config --add remote.origin.fetch +refs/heads/*:refs/remotes/origin/* # timeout=10\\n > git config remote.origin.url https://github.com/boyd-mask/git-jenkins-test/ # timeout=10\\nFetching upstream changes from https://github.com/boyd-mask/git-jenkins-test/\\n > git fetch --tags --progress https://github.com/boyd-mask/git-jenkins-test/ +refs/heads/*:refs/remotes/origin/* +refs/pull/*:refs/remotes/origin/pr/*\\n > git rev-parse refs/remotes/origin/pr/2/merge^{commit} # timeout=10\\n > git rev-parse refs/remotes/origin/origin/pr/2/merge^{commit} # timeout=10\\nChecking out Revision b3d31cef5a6e364bf4988a1f79d4687f526caa41 (refs/remotes/origin/pr/2/merge)\\n > git config core.sparsecheckout # timeout=10\\n > git checkout -f b3d31cef5a6e364bf4988a1f79d4687f526caa41\\nFirst time build. Skipping changelog.\\nSetting status of 445745f245877dc41a7208c395e9f8b549ef9843 to SUCCESS with url http://10.15.247.135:8081/job/Github%20Pull%20Req%20Builder/1/ and message: 'YEEEEEEEEESSSSSSSS!\\n '\\nFinished: SUCCESS\\n\\n\"}''\n",
      "\n",
      "Aborting.\n"
     ]
    },
    {
     "ename": "SystemExit",
     "evalue": "1",
     "output_type": "error",
     "traceback": [
      "An exception has occurred, use %tb to see the full traceback.\n",
      "\u001b[0;31mSystemExit\u001b[0m\u001b[0;31m:\u001b[0m 1\n"
     ]
    }
   ],
   "source": [
    "local(\"curl https://api.github.com/ -X POST -d \\'{0}\\'\".format(json.dumps(comment)))"
   ]
  }
 ],
 "metadata": {
  "anaconda-cloud": {},
  "kernelspec": {
   "display_name": "Python [p2]",
   "language": "python",
   "name": "Python [p2]"
  },
  "language_info": {
   "codemirror_mode": {
    "name": "ipython",
    "version": 2
   },
   "file_extension": ".py",
   "mimetype": "text/x-python",
   "name": "python",
   "nbconvert_exporter": "python",
   "pygments_lexer": "ipython2",
   "version": "2.7.12"
  }
 },
 "nbformat": 4,
 "nbformat_minor": 0
}
