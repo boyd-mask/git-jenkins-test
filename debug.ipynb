{
 "cells": [
  {
   "cell_type": "code",
   "execution_count": 1,
   "metadata": {
    "collapsed": true
   },
   "outputs": [],
   "source": [
    "from fabric.api import local\n",
    "import json"
   ]
  },
  {
   "cell_type": "code",
   "execution_count": 2,
   "metadata": {
    "collapsed": true
   },
   "outputs": [],
   "source": [
    "# ex: fab github_check\n",
    "def GithubCheck():\n",
    "    local('curl -H \"Authorization: token {0}\" {1}/user'.format(oauth_token, github_api_url))\n",
    "\n",
    "# ex: fab github_issue_comments:owner=boyd-mask,repo=git-jenkins-test,issue_num=2\n",
    "def GithubListComments(owner, repo, issue_num):\n",
    "    local('curl -H \"Authorization: token {0}\" {1}/repos/{2}/{3}/issues/{4}/comments'.format(oauth_token, github_api_url, owner, repo, issue_num))\n",
    "    \n",
    "# post comment to github\n",
    "def GithubCreateComment(owner, repo, path_log, issue_num=\"1\"):\n",
    "    # read upper stream build log\n",
    "    text = ReadFile(path_log)\n",
    "\n",
    "    # extract issue number from build log\n",
    "    issue_num = text.split(\" \")[3].replace(\"#\", \"\")\n",
    "    \n",
    "    # extract commit id from build log\n",
    "    commit_id = text.split(\" \")[6]\n",
    "    \n",
    "    # extract commit message\n",
    "    commit_message = CommitMessage(owner, repo, commit_id)\n",
    "    \n",
    "    # dummy message\n",
    "    greeting = \"Hello Guys. I am Mr.Robot. \\n\"\n",
    "\n",
    "    # json text\n",
    "    comment = {'body': greeting + \"```\\n\" + text + \"```\\n\"}\n",
    "\n",
    "    # posting comment\n",
    "    local('curl -H \\\"Authorization: token {0}\\\" {1}/repos/{2}/{3}/issues/{4}/comments -X POST -d \\' {5}\\''.format(oauth_token, github_api_url, owner, repo, issue_num, json.dumps(comment)))"
   ]
  },
  {
   "cell_type": "code",
   "execution_count": 55,
   "metadata": {
    "collapsed": false
   },
   "outputs": [],
   "source": [
    "from fabric.api import local\n",
    "import json\n",
    "\n",
    "# Return str\n",
    "def ReadFile(path):\n",
    "  with open(path, 'r') as f:\n",
    "    output = f.read().replace(\"'\",\"\\\"\")\n",
    "  return output\n",
    "\n",
    "# Return specific commit message\n",
    "def CommitMessage(oauth_token, github_api_url, owner, repo, commit_id):\n",
    "    commit_raw = local('curl -H \"Authorization: token {0}\" {1}/repos/{2}/{3}/commits/{4}'.format(oauth_token, github_api_url, owner, repo, commit_id), capture=True)\n",
    "    message = json.loads(str(commit_raw))[\"commit\"][\"message\"]\n",
    "    return message\n",
    "\n",
    "# Return last commit's message\n",
    "def CurrentCommitMessage(oauth_token, github_api_url, owner, repo, git_current_branch, git_current_commit_id):\n",
    "    commit_raw = local('curl -H \"Authorization: token {0}\" {1}/repos/{2}/{3}/commits/{4}'.format(oauth_token, github_api_url, owner, repo, git_current_commit_id), capture=True)\n",
    "    git_head_commit_id = json.loads(str(commit_raw))['parents'][-1]['sha']\n",
    "    print \"git_head_commit_id: \" + git_head_commit_id\n",
    "    return CommitMessage(owner, repo, git_head_commit_id)\n",
    "\n",
    "# post comment to github\n",
    "def GithubCreateComment(oauth_token, github_api_url, owner, repo, git_current_branch, path_log):\n",
    "\n",
    "    # extract issue number. branche names like : \"origin/pr/3/merge\"\n",
    "    issue_num = git_current_branch.split('/')[2]\n",
    "    \n",
    "    # read upper stream build log\n",
    "    text = ReadFile(path_log)\n",
    "    \n",
    "    # dummy message\n",
    "    greeting = \"Hello Guys. I am Mr.Robot. \\n\"\n",
    "\n",
    "    # json text\n",
    "    comment = {'body': greeting + \"```\\n\" + text + \"```\\n\"}\n",
    "\n",
    "    # posting comment\n",
    "    local('curl -H \\\"Authorization: token {0}\\\" {1}/repos/{2}/{3}/issues/{4}/comments -X POST -d \\' {5}\\''.format(oauth_token, github_api_url, owner, repo, issue_num, json.dumps(comment)))"
   ]
  },
  {
   "cell_type": "code",
   "execution_count": null,
   "metadata": {
    "collapsed": true
   },
   "outputs": [],
   "source": [
    "# default variables\n",
    "oauth_token=\"6900343dac01229d1c616b1e6a5b9195e0c66a2f\"\n",
    "github_api_url=\"https://api.github.com\"\n",
    "\n",
    "owner = 'boyd-mask'\n",
    "repo = 'git-jenkins-test'\n",
    "\n",
    "git_current_commit_id = \"7262d522d049073e4637dcee6404c5491f7297bd\"\n",
    "git_current_branch = \"origin/pr/3/merge\"\n"
   ]
  },
  {
   "cell_type": "code",
   "execution_count": 53,
   "metadata": {
    "collapsed": false
   },
   "outputs": [
    {
     "data": {
      "text/plain": [
       "'3'"
      ]
     },
     "execution_count": 53,
     "metadata": {},
     "output_type": "execute_result"
    }
   ],
   "source": [
    "/usr/local/bin/fab -f /usr/local/jenkins/fabfile.py \n",
    "GithubCreateComment:\n",
    "oauth_token=${OAUTH_TOKEN},\n",
    "github_api_url=${GITHUB_API_URL},\n",
    "owner=${OWNER},\n",
    "repo=${REPO},\n",
    "git_current_branch=${GIT_BRANCH},\n",
    "path_log=/usr/local/opt/jenkins/jobs/${UpperJobName}/builds/${UpperBuildNumber}/log"
   ]
  }
 ],
 "metadata": {
  "anaconda-cloud": {},
  "kernelspec": {
   "display_name": "Python [p2]",
   "language": "python",
   "name": "Python [p2]"
  },
  "language_info": {
   "codemirror_mode": {
    "name": "ipython",
    "version": 2
   },
   "file_extension": ".py",
   "mimetype": "text/x-python",
   "name": "python",
   "nbconvert_exporter": "python",
   "pygments_lexer": "ipython2",
   "version": "2.7.12"
  }
 },
 "nbformat": 4,
 "nbformat_minor": 0
}
