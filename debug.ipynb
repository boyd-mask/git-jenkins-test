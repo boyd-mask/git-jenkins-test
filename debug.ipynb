{
 "cells": [
  {
   "cell_type": "code",
   "execution_count": 1,
   "metadata": {
    "collapsed": false
   },
   "outputs": [],
   "source": [
    "from fabric.api import local\n",
    "import json, os\n",
    "\n",
    "# Return str\n",
    "def ReadFile(path):\n",
    "  with open(path, 'r') as f:\n",
    "    output = f.read().replace(\"'\",\"\\\"\")\n",
    "  return output\n",
    "\n",
    "# Return specific commit message\n",
    "def CommitMessage(oauth_token, github_api_url, owner, repo, commit_id):\n",
    "    commit_raw = local('curl -H \"Authorization: token {0}\" {1}/repos/{2}/{3}/commits/{4}'.format(oauth_token, github_api_url, owner, repo, commit_id), capture=True)\n",
    "    message = json.loads(str(commit_raw))[\"commit\"][\"message\"]\n",
    "    print message\n",
    "    return message\n",
    "\n",
    "# Return last commit's message\n",
    "def CurrentCommitMessage(oauth_token, github_api_url, owner, repo, git_current_branch, git_current_commit_id):\n",
    "    commit_raw = local('curl -H \"Authorization: token {0}\" {1}/repos/{2}/{3}/commits/{4}'.format(oauth_token, github_api_url, owner, repo, git_current_commit_id), capture=True)\n",
    "    git_head_commit_id = json.loads(str(commit_raw))['parents'][-1]['sha']\n",
    "    print \"git_head_commit_id: \" + git_head_commit_id\n",
    "    return CommitMessage(oauth_token, github_api_url, owner, repo, git_head_commit_id)\n",
    "\n",
    "# post comment to github\n",
    "def GithubCreateComment(oauth_token, github_api_url, owner, repo, git_current_branch, path_log):\n",
    "    \n",
    "    # read upper stream build log\n",
    "    text = ReadFile(path_log)\n",
    "    \n",
    "    # extract issue number from build log\n",
    "    issue_num = text.split(\" \")[3].replace(\"#\", \"\")\n",
    "    \n",
    "    # dummy message\n",
    "    greeting = \"Hello Guys. I am Mr.Robot. \\n\"\n",
    "\n",
    "    # json text\n",
    "    comment = {'body': greeting + \"```\\n\" + text + \"```\\n\"}\n",
    "\n",
    "    # posting comment\n",
    "    local('curl -H \\\"Authorization: token {0}\\\" {1}/repos/{2}/{3}/issues/{4}/comments -X POST -d \\' {5}\\''.format(oauth_token, github_api_url, owner, repo, issue_num, json.dumps(comment)))"
   ]
  },
  {
   "cell_type": "code",
   "execution_count": null,
   "metadata": {
    "collapsed": true
   },
   "outputs": [],
   "source": [
    "CurrentCommitMessage:\n",
    "oauth_token=4afa05f64a196fc7981e8fc44beca5c7a73dd513,\n",
    "github_api_url=https://api.github.com,owner=boyd-mask,repo=git-jenkins-test,\n",
    "git_current_branch=origin/pr/4/merge,\n",
    "git_current_commit_id=228061cfd23a38e7a6453fa8c6eabf222e17940f"
   ]
  },
  {
   "cell_type": "code",
   "execution_count": 7,
   "metadata": {
    "collapsed": false
   },
   "outputs": [],
   "source": [
    "# default variables\n",
    "oauth_token=\"4afa05f64a196fc7981e8fc44beca5c7a73dd513\"\n",
    "github_api_url=\"https://api.github.com\"\n",
    "\n",
    "owner = 'boyd-mask'\n",
    "repo = 'git-jenkins-test'\n",
    "\n",
    "gir_url =\"https://github.com/boyd-mask/git-jenkins-test/\"\n",
    "git_current_commit_id = \"228061cfd23a38e7a6453fa8c6eabf222e17940f\"\n",
    "git_current_branch = \"origin/master\"\n",
    "\n",
    "path_log=\"/usr/local/opt/jenkins/jobs/ghpqb-sql-test/builds/34/log\"\n",
    "path_log=os.getcwd() + '/log'"
   ]
  },
  {
   "cell_type": "code",
   "execution_count": 78,
   "metadata": {
    "collapsed": false
   },
   "outputs": [],
   "source": [
    "# GithubCreateComment(oauth_token,github_api_url,owner,repo,git_current_branch,path_log)"
   ]
  },
  {
   "cell_type": "code",
   "execution_count": 79,
   "metadata": {
    "collapsed": false
   },
   "outputs": [],
   "source": [
    "# /usr/local/bin/fab -f /usr/local/jenkins/fabfile.py \n",
    "# GithubCreateComment:\n",
    "# oauth_token=${OAUTH_TOKEN},\n",
    "# github_api_url=${GITHUB_API_URL},\n",
    "# owner=${OWNER},\n",
    "# repo=${REPO},\n",
    "# git_current_branch=${GIT_BRANCH},\n",
    "# path_log=/usr/local/opt/jenkins/jobs/${UpperJobName}/builds/${UpperBuildNumber}/log"
   ]
  },
  {
   "cell_type": "code",
   "execution_count": null,
   "metadata": {
    "collapsed": true
   },
   "outputs": [],
   "source": [
    "# /usr/local/bin/fab -f /usr/local/jenkins/fabfile.py \n",
    "# CurrentCommitMessage:\n",
    "# oauth_token=${OAUTH_TOKEN},\n",
    "# github_api_url=${GITHUB_API_URL},\n",
    "# owner=${OWNER},\n",
    "# repo=${REPO},\n",
    "# git_current_branch=${GIT_BRANCH},\n",
    "# git_current_commit_id=${GIT_COMMIT}"
   ]
  }
 ],
 "metadata": {
  "anaconda-cloud": {},
  "kernelspec": {
   "display_name": "Python 2",
   "language": "python",
   "name": "python2"
  },
  "language_info": {
   "codemirror_mode": {
    "name": "ipython",
    "version": 2
   },
   "file_extension": ".py",
   "mimetype": "text/x-python",
   "name": "python",
   "nbconvert_exporter": "python",
   "pygments_lexer": "ipython2",
   "version": "2.7.12"
  }
 },
 "nbformat": 4,
 "nbformat_minor": 0
}
